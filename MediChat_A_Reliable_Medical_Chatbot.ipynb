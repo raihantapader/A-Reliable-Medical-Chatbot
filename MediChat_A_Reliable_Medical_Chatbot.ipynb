{
  "nbformat": 4,
  "nbformat_minor": 0,
  "metadata": {
    "colab": {
      "provenance": []
    },
    "kernelspec": {
      "name": "python3",
      "display_name": "Python 3"
    },
    "language_info": {
      "name": "python"
    }
  },
  "cells": [
    {
      "cell_type": "code",
      "execution_count": 1,
      "metadata": {
        "colab": {
          "base_uri": "https://localhost:8080/"
        },
        "id": "Mj_1p6LUpBQ9",
        "outputId": "8b9c6a18-4476-4429-ced8-6632aee320fc"
      },
      "outputs": [
        {
          "output_type": "stream",
          "name": "stdout",
          "text": [
            "\u001b[?25l   \u001b[90m━━━━━━━━━━━━━━━━━━━━━━━━━━━━━━━━━━━━━━━━\u001b[0m \u001b[32m0.0/134.9 kB\u001b[0m \u001b[31m?\u001b[0m eta \u001b[36m-:--:--\u001b[0m\r\u001b[2K   \u001b[90m━━━━━━━━━━━━━━━━━━━━━━━━━━━━━━━━━━━━━━━━\u001b[0m \u001b[32m134.9/134.9 kB\u001b[0m \u001b[31m9.5 MB/s\u001b[0m eta \u001b[36m0:00:00\u001b[0m\n",
            "\u001b[?25h"
          ]
        }
      ],
      "source": [
        "!pip install langchain-groq gradio --quiet"
      ]
    },
    {
      "cell_type": "code",
      "source": [
        "\n",
        "\n",
        "import gradio as gr\n",
        "from langchain.prompts import ChatPromptTemplate, MessagesPlaceholder\n",
        "from langchain.schema import HumanMessage, AIMessage\n",
        "from langchain_groq import ChatGroq\n",
        "from langchain_core.runnables import RunnableSequence\n",
        "\n",
        "class MedicalChatbot:\n",
        "    def __init__(self, groq_api_key):\n",
        "        self.llm = ChatGroq(\n",
        "            temperature=0.7,\n",
        "            model_name=\"gpt-3.5-turbo\",\n",
        "            groq_api_key=groq_api_key\n",
        "        )\n",
        "\n",
        "        self.prompt_template = ChatPromptTemplate.from_messages([\n",
        "            (\"system\", \"\"\"You are a helpful medical assistant. Your role is to provide general information about possible\n",
        "            conditions and recommend safe over-the-counter medications based on user symptoms. Always include disclaimers.\n",
        "\n",
        "When responding:\n",
        "- Give 1-2 possible conditions (with disclaimer)\n",
        "- Recommend OTC medications\n",
        "- Mention when to seek medical attention\n",
        "- Give lifestyle advice\n",
        "- Use friendly tone\n",
        "\n",
        "Always include:\n",
        "- \"I am not a doctor and this is not medical advice.\"\n",
        "- \"Consult a healthcare professional before taking any medication.\"\n",
        "- \"For emergencies, call emergency services immediately.\"\n",
        "\"\"\"),\n",
        "            MessagesPlaceholder(variable_name=\"chat_history\"),\n",
        "            (\"human\", \"{symptoms}\")\n",
        "        ])\n",
        "\n",
        "        self.chain = self.prompt_template | self.llm\n",
        "        self.chat_history = []\n",
        "\n",
        "    def get_advice(self, symptoms):\n",
        "        try:\n",
        "            if not symptoms.strip():\n",
        "                return \"Please describe your symptoms.\"\n",
        "\n",
        "            self.chat_history.append(HumanMessage(content=symptoms))\n",
        "\n",
        "            response = self.chain.invoke({\n",
        "                \"chat_history\": self.chat_history,\n",
        "                \"symptoms\": symptoms\n",
        "            })\n",
        "\n",
        "            self.chat_history.append(AIMessage(content=response.content))\n",
        "            return response.content\n",
        "\n",
        "        except Exception as e:\n",
        "            return f\"⚠️ Error processing your request: {str(e)}\"\n",
        "\n",
        "# Replace with your actual Groq API key\n",
        "GROQ_API_KEY = \"Your api key\"  # <<< PUT YOUR REAL KEY HERE\n",
        "\n",
        "# Initialize chatbot\n",
        "chatbot = MedicalChatbot(GROQ_API_KEY)\n",
        "\n",
        "def respond(message, chat_history):\n",
        "    if not message.strip():\n",
        "        return \"\", chat_history\n",
        "\n",
        "    bot_response = chatbot.get_advice(message)\n",
        "    chat_history.append((message, bot_response))\n",
        "    return \"\", chat_history\n",
        "\n",
        "def clear_chat():\n",
        "    chatbot.chat_history = []\n",
        "    return []\n",
        "\n",
        "with gr.Blocks(title=\"MediChat\", theme=gr.themes.Soft()) as demo:\n",
        "    gr.Markdown(\"\"\"\n",
        "    # 🩺 MediChat - Medical Information Assistant\n",
        "    <div style='background-color: #FFF3CD; padding: 10px; border-radius: 5px; margin-bottom: 20px;'>\n",
        "    <b>⚠️ Disclaimer:</b> This is not medical advice. Consult a doctor for serious symptoms.\n",
        "    </div>\n",
        "    \"\"\")\n",
        "\n",
        "    chatbot_ui = gr.Chatbot(\n",
        "        height=500,\n",
        "        bubble_full_width=False,\n",
        "        avatar_images=(\n",
        "            \"https://cdn-icons-png.flaticon.com/512/2784/2784487.png\",  # User\n",
        "            \"https://cdn-icons-png.flaticon.com/512/4712/4712035.png\"   # Bot\n",
        "        )\n",
        "    )\n",
        "\n",
        "    with gr.Row():\n",
        "        msg = gr.Textbox(\n",
        "            label=\"Describe your symptoms\",\n",
        "            placeholder=\"I have a headache and fever...\",\n",
        "            scale=4,\n",
        "            container=False\n",
        "        )\n",
        "        submit = gr.Button(\"Send\", variant=\"primary\", scale=1)\n",
        "\n",
        "    clear = gr.Button(\"Clear Chat\")\n",
        "\n",
        "    # Event handlers\n",
        "    msg.submit(respond, [msg, chatbot_ui], [msg, chatbot_ui])\n",
        "    submit.click(respond, [msg, chatbot_ui], [msg, chatbot_ui])\n",
        "    clear.click(clear_chat, None, chatbot_ui)\n",
        "\n",
        "    # Additional info\n",
        "    with gr.Accordion(\"Emergency Warning Signs\", open=False):\n",
        "        gr.Markdown(\"\"\"\n",
        "        Seek immediate medical care for:\n",
        "        - 🚨 Chest pain or pressure\n",
        "        - 🚨 Difficulty breathing\n",
        "        - 🚨 Severe bleeding\n",
        "        - 🚨 Sudden weakness/numbness\n",
        "        - 🚨 Suicidal thoughts\n",
        "        - 🚨 Seizures or unconsciousness\n",
        "        \"\"\")\n",
        "\n",
        "# Launch with try-catch for Colab compatibility\n",
        "try:\n",
        "    demo.launch(share=True, debug=True)\n",
        "except Exception as e:\n",
        "    print(f\"Error launching interface: {str(e)}\")\n",
        "    demo.launch(debug=True)"
      ],
      "metadata": {
        "colab": {
          "base_uri": "https://localhost:8080/",
          "height": 680
        },
        "id": "S5M4tb3MpGfc",
        "outputId": "792abc79-70c1-4876-9623-8b006e7d0559"
      },
      "execution_count": null,
      "outputs": [
        {
          "output_type": "stream",
          "name": "stderr",
          "text": [
            "/tmp/ipython-input-2965681941.py:82: UserWarning: You have not specified a value for the `type` parameter. Defaulting to the 'tuples' format for chatbot messages, but this is deprecated and will be removed in a future version of Gradio. Please set type='messages' instead, which uses openai-style dictionaries with 'role' and 'content' keys.\n",
            "  chatbot_ui = gr.Chatbot(\n",
            "/tmp/ipython-input-2965681941.py:82: DeprecationWarning: The 'bubble_full_width' parameter is deprecated and will be removed in a future version. This parameter no longer has any effect.\n",
            "  chatbot_ui = gr.Chatbot(\n"
          ]
        },
        {
          "output_type": "stream",
          "name": "stdout",
          "text": [
            "Colab notebook detected. This cell will run indefinitely so that you can see errors and logs. To turn off, set debug=False in launch().\n",
            "* Running on public URL: https://66e3e5f0ea1a2b0054.gradio.live\n",
            "\n",
            "This share link expires in 1 week. For free permanent hosting and GPU upgrades, run `gradio deploy` from the terminal in the working directory to deploy to Hugging Face Spaces (https://huggingface.co/spaces)\n"
          ]
        },
        {
          "output_type": "display_data",
          "data": {
            "text/plain": [
              "<IPython.core.display.HTML object>"
            ],
            "text/html": [
              "<div><iframe src=\"https://66e3e5f0ea1a2b0054.gradio.live\" width=\"100%\" height=\"500\" allow=\"autoplay; camera; microphone; clipboard-read; clipboard-write;\" frameborder=\"0\" allowfullscreen></iframe></div>"
            ]
          },
          "metadata": {}
        }
      ]
    }
  ]
}